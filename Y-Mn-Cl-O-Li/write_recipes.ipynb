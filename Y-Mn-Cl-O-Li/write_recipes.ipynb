{
 "cells": [
  {
   "cell_type": "code",
   "execution_count": 1,
   "id": "2651c1ae-c900-458c-8a38-69f062ec6703",
   "metadata": {},
   "outputs": [],
   "source": [
    "%load_ext autoreload\n",
    "%autoreload 2"
   ]
  },
  {
   "cell_type": "code",
   "execution_count": 2,
   "id": "15a12ab2-aab1-41f1-be24-5737159f6268",
   "metadata": {},
   "outputs": [
    {
     "name": "stderr",
     "output_type": "stream",
     "text": [
      "/Users/mgallant/anaconda3/envs/rxn-ca/lib/python3.10/site-packages/tqdm/auto.py:22: TqdmWarning: IProgress not found. Please update jupyter and ipywidgets. See https://ipywidgets.readthedocs.io/en/stable/user_install.html\n",
      "  from .autonotebook import tqdm as notebook_tqdm\n",
      "2024-01-11 21:13:44,543\tINFO util.py:154 -- Missing packages: ['ipywidgets']. Run `pip install -U ipywidgets`, then restart the notebook server for rich notebook output.\n"
     ]
    }
   ],
   "source": [
    "from rxn_ca.core.recipe import ReactionRecipe\n",
    "from rxn_ca.core.heating import HeatingSchedule, HeatingStep"
   ]
  },
  {
   "cell_type": "code",
   "execution_count": 4,
   "id": "dbb0fca9-d3bb-4b7d-9656-01b70cacfaa5",
   "metadata": {},
   "outputs": [],
   "source": [
    "heating_schedule = HeatingSchedule(\n",
    "    HeatingStep.hold(1000, 30000),\n",
    ")\n",
    "\n",
    "fast = ReactionRecipe(\n",
    "    chem_sys=\"Y-Mn-O-Cl-Li\",\n",
    "    reactant_amounts={\n",
    "        \"YCl3\": 2,\n",
    "        \"Mn2O3\": 1,\n",
    "        \"Li2O\": 3\n",
    "    },\n",
    "    particle_size=0.5,\n",
    "    heating_schedule=heating_schedule,\n",
    "    simulation_size=15,\n",
    "    num_realizations=5,\n",
    "    exclude_phases=[\"Mn8Cl3O10\"]\n",
    ")\n",
    "\n",
    "fast.to_file(\"debug.json\")"
   ]
  },
  {
   "cell_type": "code",
   "execution_count": 4,
   "id": "d979539d-e68e-4e08-91e5-7e01c57df005",
   "metadata": {},
   "outputs": [],
   "source": [
    "heating_schedule = HeatingSchedule(\n",
    "    HeatingStep.sweep(800, 1000, stage_length=12000, step_size=100),\n",
    "    HeatingStep.hold(1000, 10000)\n",
    ")\n",
    "\n",
    "fast = ReactionRecipe(\n",
    "    chem_sys=\"Y-Mn-O-Cl-Li\",\n",
    "    reactant_amounts={\n",
    "        \"YCl3\": 2,\n",
    "        \"Mn2O3\": 1,\n",
    "        \"Li2O\": 3\n",
    "    },\n",
    "    heating_schedule=heating_schedule,\n",
    "    simulation_size=15,\n",
    "    num_realizations=5,\n",
    "    exclude_phases=[\"Mn8Cl3O10\"]\n",
    ")\n",
    "\n",
    "fast.to_file(\"fast_recipe.json\")"
   ]
  },
  {
   "cell_type": "code",
   "execution_count": 6,
   "id": "44569670-89ef-4c73-95d1-394ae67fc791",
   "metadata": {},
   "outputs": [],
   "source": [
    "heating_schedule = HeatingSchedule(\n",
    "    HeatingStep.sweep(700, 1000, stage_length=12000, step_size=100),\n",
    "    HeatingStep.hold(1000, 12000),\n",
    "    HeatingStep.hold(1000, 12000),\n",
    "    HeatingStep.hold(1000, 12000),\n",
    "    HeatingStep.hold(1000, 12000),\n",
    "    HeatingStep.hold(1000, 12000),\n",
    "    HeatingStep.hold(1000, 12000),\n",
    ")\n",
    "\n",
    "recipe = ReactionRecipe(\n",
    "    chem_sys=\"Y-Mn-O-Cl-Li\",\n",
    "    reactant_amounts={\n",
    "        \"YCl3\": 2,\n",
    "        \"Mn2O3\": 1,\n",
    "        \"Li2O\": 3\n",
    "    },\n",
    "    heating_schedule=heating_schedule,\n",
    "    simulation_size=15,\n",
    "    exclude_phases=[\"Mn8Cl3O10\"]    \n",
    ")\n",
    "\n",
    "recipe.to_file(\"recipe.json\")"
   ]
  },
  {
   "cell_type": "code",
   "execution_count": 12,
   "id": "b213c9fc-9bd2-419d-b8cc-79c5a1cc2e76",
   "metadata": {},
   "outputs": [],
   "source": [
    "heating_schedule = HeatingSchedule(\n",
    "    HeatingStep.sweep(300, 1000, stage_length=4, temp_step_size=100),\n",
    "    HeatingStep.hold(1000, 60, stage_length = 3),\n",
    ")\n",
    "\n",
    "recipe = ReactionRecipe(\n",
    "    chem_sys=\"Y-Mn-O-Cl-Li\",\n",
    "    reactant_amounts={\n",
    "        \"YCl3\": 2,\n",
    "        \"Mn2O3\": 1,\n",
    "        \"Li2O\": 3\n",
    "    },\n",
    "    heating_schedule=heating_schedule,\n",
    "    simulation_size=18,\n",
    "    exclude_phases=[\"Mn8Cl3O10\"],\n",
    "    num_realizations=8\n",
    ")\n",
    "\n",
    "recipe.to_file(\"production_recipe.json\")"
   ]
  },
  {
   "cell_type": "code",
   "execution_count": 15,
   "id": "ca20c3a8-e69d-4ec6-97c7-13e4b6a494d3",
   "metadata": {},
   "outputs": [],
   "source": [
    "heating_schedule = HeatingSchedule(\n",
    "    HeatingStep.sweep(300, 1000, stage_length=2, temp_step_size=100),\n",
    "    HeatingStep.hold(1000, 30, stage_length = 3),\n",
    ")\n",
    "\n",
    "recipe = ReactionRecipe(\n",
    "    chem_sys=\"Y-Mn-O-Cl-Li\",\n",
    "    reactant_amounts={\n",
    "        \"YCl3\": 2,\n",
    "        \"Mn2O3\": 1,\n",
    "        \"Li2O\": 3\n",
    "    },\n",
    "    heating_schedule=heating_schedule,\n",
    "    exclude_phases=[\"Mn8Cl3O10\", \"LiYO2\"],\n",
    ")\n",
    "\n",
    "recipe.to_file(\"experiment.json\")"
   ]
  },
  {
   "cell_type": "code",
   "execution_count": 11,
   "id": "ad9b93bc-9cc8-4311-987b-d44fce96779b",
   "metadata": {},
   "outputs": [],
   "source": [
    "heating_schedule = HeatingSchedule(\n",
    "    HeatingStep.hold(1000, 10)\n",
    ")\n",
    "\n",
    "gas = ReactionRecipe(\n",
    "    chem_sys=\"Y-Mn-O-Cl-Li\",\n",
    "    reactant_amounts={\n",
    "        \"YCl3\": 1,\n",
    "        \"Li2O2\": 1\n",
    "    },\n",
    "    heating_schedule=heating_schedule,\n",
    ")\n",
    "\n",
    "gas.to_file(\"gas.json\")"
   ]
  },
  {
   "cell_type": "code",
   "execution_count": null,
   "id": "07658f08-cbb9-490a-9c9e-9839dcecb27a",
   "metadata": {},
   "outputs": [],
   "source": []
  }
 ],
 "metadata": {
  "kernelspec": {
   "display_name": "rxn-ca",
   "language": "python",
   "name": "rxn-ca"
  },
  "language_info": {
   "codemirror_mode": {
    "name": "ipython",
    "version": 3
   },
   "file_extension": ".py",
   "mimetype": "text/x-python",
   "name": "python",
   "nbconvert_exporter": "python",
   "pygments_lexer": "ipython3",
   "version": "3.10.6"
  }
 },
 "nbformat": 4,
 "nbformat_minor": 5
}
