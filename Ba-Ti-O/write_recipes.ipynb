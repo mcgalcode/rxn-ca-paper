{
 "cells": [
  {
   "cell_type": "code",
   "execution_count": 1,
   "id": "2651c1ae-c900-458c-8a38-69f062ec6703",
   "metadata": {},
   "outputs": [],
   "source": [
    "%load_ext autoreload\n",
    "%autoreload 2"
   ]
  },
  {
   "cell_type": "code",
   "execution_count": 2,
   "id": "15a12ab2-aab1-41f1-be24-5737159f6268",
   "metadata": {},
   "outputs": [
    {
     "name": "stderr",
     "output_type": "stream",
     "text": [
      "/Users/mgallant/anaconda3/envs/rxn-ca/lib/python3.10/site-packages/tqdm/auto.py:22: TqdmWarning: IProgress not found. Please update jupyter and ipywidgets. See https://ipywidgets.readthedocs.io/en/stable/user_install.html\n",
      "  from .autonotebook import tqdm as notebook_tqdm\n",
      "2023-12-20 20:13:37,701\tINFO util.py:154 -- Missing packages: ['ipywidgets']. Run `pip install -U ipywidgets`, then restart the notebook server for rich notebook output.\n"
     ]
    }
   ],
   "source": [
    "from rxn_ca.core.recipe import ReactionRecipe, ScoreTypes\n",
    "from rxn_ca.core.heating import HeatingSchedule, HeatingStep"
   ]
  },
  {
   "cell_type": "code",
   "execution_count": 12,
   "id": "e18ac6a6-d4a4-49d6-bd41-ac4411482f75",
   "metadata": {},
   "outputs": [],
   "source": [
    "heating_schedule = HeatingSchedule(\n",
    "    HeatingStep.hold(1200, 40000),\n",
    ")\n",
    "\n",
    "fast = ReactionRecipe(\n",
    "    chem_sys=\"Ba-Ti-O\",\n",
    "    reactant_amounts={\n",
    "        \"BaO\": 1,\n",
    "        \"TiO2\": 1,\n",
    "    },\n",
    "    particle_size=0.5,\n",
    "    heating_schedule=heating_schedule,\n",
    "    simulation_size=15\n",
    ")\n",
    "\n",
    "fast.to_file(\"debug.json\")"
   ]
  },
  {
   "cell_type": "code",
   "execution_count": 24,
   "id": "64675c92-814a-45a7-b7cb-44224d43755c",
   "metadata": {},
   "outputs": [],
   "source": [
    "heating_schedule = HeatingSchedule(\n",
    "    HeatingStep.hold(1200, 100000),\n",
    "    HeatingStep.hold(1200, 100000),\n",
    "    HeatingStep.hold(1200, 100000),\n",
    "    HeatingStep.hold(1200, 100000),\n",
    ")\n",
    "\n",
    "fast = ReactionRecipe(\n",
    "    chem_sys=\"Ba-Ti-O\",\n",
    "    reactant_amounts={\n",
    "        \"BaO\": 1,\n",
    "        \"TiO2\": 1,\n",
    "    },\n",
    "    particle_size=0.5,\n",
    "    heating_schedule=heating_schedule,\n",
    "    simulation_size=15\n",
    ")\n",
    "\n",
    "fast.to_file(\"multi_stage.json\")"
   ]
  },
  {
   "cell_type": "code",
   "execution_count": 21,
   "id": "c7af7db0-9f7a-4061-8481-a4e1feb1c409",
   "metadata": {},
   "outputs": [],
   "source": [
    "heating_schedule = HeatingSchedule(\n",
    "    HeatingStep.hold(1200, 12000),\n",
    "    HeatingStep.hold(1200, 36000),\n",
    ")\n",
    "\n",
    "fast = ReactionRecipe(\n",
    "    chem_sys=\"Ba-Ti-O\",\n",
    "    reactant_amounts={\n",
    "        \"Ti3O\": 1,\n",
    "        \"Ti2O\": 1,\n",
    "    },\n",
    "    particle_size=0.5,\n",
    "    heating_schedule=heating_schedule,\n",
    "    simulation_size=15\n",
    ")\n",
    "\n",
    "fast.to_file(\"multi_stage_no_rxn.json\")"
   ]
  },
  {
   "cell_type": "code",
   "execution_count": 17,
   "id": "3f194c73-dcfe-4240-8328-5d1ea13814d5",
   "metadata": {},
   "outputs": [],
   "source": [
    "heating_schedule = HeatingSchedule(\n",
    "    HeatingStep.hold(1200, 48000),\n",
    ")\n",
    "\n",
    "fast = ReactionRecipe(\n",
    "    chem_sys=\"Ba-Ti-O\",\n",
    "    reactant_amounts={\n",
    "        \"BaO\": 1,\n",
    "        \"TiO2\": 1,\n",
    "    },\n",
    "    particle_size=0.5,\n",
    "    heating_schedule=heating_schedule,\n",
    "    simulation_size=15\n",
    ")\n",
    "\n",
    "fast.to_file(\"one_stage.json\")"
   ]
  },
  {
   "cell_type": "code",
   "execution_count": 3,
   "id": "d979539d-e68e-4e08-91e5-7e01c57df005",
   "metadata": {},
   "outputs": [],
   "source": [
    "heating_schedule = HeatingSchedule(\n",
    "    HeatingStep.hold(1200, 150000)\n",
    ")\n",
    "\n",
    "fast = ReactionRecipe(\n",
    "    chem_sys=\"Ba-Ti-O\",\n",
    "    reactant_amounts={\n",
    "        \"BaO\": 1,\n",
    "        \"TiO2\": 1,\n",
    "    },\n",
    "    particle_size=0.5,\n",
    "    heating_schedule=heating_schedule,\n",
    "    simulation_size=15\n",
    ")\n",
    "\n",
    "fast.to_file(\"fast_recipe.json\")"
   ]
  },
  {
   "cell_type": "code",
   "execution_count": 4,
   "id": "1110f99a-c4da-475b-8f95-b7f17f830e88",
   "metadata": {},
   "outputs": [],
   "source": [
    "heating_schedule = HeatingSchedule(\n",
    "    HeatingStep.sweep(700, 1500, 15000),\n",
    "    HeatingStep.hold(1500, 1500000)\n",
    ")\n",
    "\n",
    "\n",
    "fast = ReactionRecipe(\n",
    "    chem_sys=\"Ba-Ti-O\",\n",
    "    reactant_amounts={\n",
    "        \"BaO2\": 1,\n",
    "        \"TiO2\": 1,\n",
    "    },\n",
    "    particle_size=0.5,\n",
    "    heating_schedule=heating_schedule,\n",
    "    simulation_size=15\n",
    ")\n",
    "\n",
    "fast.to_file(\"vir.json\")"
   ]
  },
  {
   "cell_type": "code",
   "execution_count": 18,
   "id": "45ab2848-3c97-4c12-b614-1dcfa39e3fc5",
   "metadata": {},
   "outputs": [],
   "source": [
    "heating_schedule = HeatingSchedule(\n",
    "    HeatingStep.hold(1200, 250000)\n",
    ")\n",
    "\n",
    "fast = ReactionRecipe(\n",
    "    chem_sys=\"Ba-Ti-O\",\n",
    "    reactant_amounts={\n",
    "        \"BaO\": 1,\n",
    "        \"TiO2\": 1,\n",
    "    },\n",
    "    particle_size=0.5,\n",
    "    heating_schedule=heating_schedule,\n",
    "    simulation_size=12,\n",
    "    score_type=ScoreTypes.TAMMAN_HUTTIG_SOFTPLUS_GIBBS_SOFTPLUS\n",
    ")\n",
    "\n",
    "fast.to_file(\"thermo_recipe.json\")"
   ]
  },
  {
   "cell_type": "code",
   "execution_count": 22,
   "id": "9ac20760-c3a4-4d1d-afb2-fbfdee436ce6",
   "metadata": {},
   "outputs": [],
   "source": [
    "heating_schedule = HeatingSchedule(\n",
    "    HeatingStep.hold(1000, 150000)\n",
    ")\n",
    "\n",
    "fast = ReactionRecipe(\n",
    "    chem_sys=\"Ba-Ti-O\",\n",
    "    reactant_amounts={\n",
    "        \"Ba2TiO4\": 1,\n",
    "        \"TiO2\": 1,\n",
    "    },\n",
    "    particle_size=0.5,\n",
    "    heating_schedule=heating_schedule,\n",
    "    simulation_size=15\n",
    ")\n",
    "\n",
    "fast.to_file(\"ba2tio4_tiO2_recipe.json\")"
   ]
  },
  {
   "cell_type": "code",
   "execution_count": 21,
   "id": "1c2537ee-b007-4ed1-8b87-a8209fc921e0",
   "metadata": {},
   "outputs": [],
   "source": [
    "heating_schedule = HeatingSchedule(\n",
    "    HeatingStep.hold(1200, 150000)\n",
    ")\n",
    "\n",
    "fast = ReactionRecipe(\n",
    "    chem_sys=\"Ba-Ti-O\",\n",
    "    reactant_amounts={\n",
    "        \"Ba2TiO4\": 1,\n",
    "        \"BaTi2O5\": 1,\n",
    "    },\n",
    "    particle_size=0.5,\n",
    "    heating_schedule=heating_schedule,\n",
    "    simulation_size=15\n",
    ")\n",
    "\n",
    "fast.to_file(\"ba2tio4_bati2o5.json\")"
   ]
  },
  {
   "cell_type": "code",
   "execution_count": 5,
   "id": "959b9e15-1b67-4fb2-ac1e-46d738be346d",
   "metadata": {},
   "outputs": [],
   "source": [
    "heating_schedule = HeatingSchedule(\n",
    "    HeatingStep.hold(1000, 300000)\n",
    ")\n",
    "\n",
    "fast = ReactionRecipe(\n",
    "    chem_sys=\"Ba-Ti-O\",\n",
    "    reactant_amounts={\n",
    "        \"BaO2\": 1,\n",
    "        \"TiO2\": 1,\n",
    "    },\n",
    "    particle_size=0.5,\n",
    "    heating_schedule=heating_schedule,\n",
    "    simulation_size=15\n",
    ")\n",
    "\n",
    "fast.to_file(\"bao2_tiO2_recipe.json\")"
   ]
  },
  {
   "cell_type": "code",
   "execution_count": null,
   "id": "2bc2b338-8317-444b-85a6-5ddd0243da8d",
   "metadata": {},
   "outputs": [],
   "source": []
  }
 ],
 "metadata": {
  "kernelspec": {
   "display_name": "rxn-ca",
   "language": "python",
   "name": "rxn-ca"
  },
  "language_info": {
   "codemirror_mode": {
    "name": "ipython",
    "version": 3
   },
   "file_extension": ".py",
   "mimetype": "text/x-python",
   "name": "python",
   "nbconvert_exporter": "python",
   "pygments_lexer": "ipython3",
   "version": "3.10.6"
  }
 },
 "nbformat": 4,
 "nbformat_minor": 5
}
