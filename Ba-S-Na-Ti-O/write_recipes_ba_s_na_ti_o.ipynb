{
 "cells": [
  {
   "cell_type": "code",
   "execution_count": 1,
   "id": "2651c1ae-c900-458c-8a38-69f062ec6703",
   "metadata": {},
   "outputs": [],
   "source": [
    "%load_ext autoreload\n",
    "%autoreload 2"
   ]
  },
  {
   "cell_type": "code",
   "execution_count": 2,
   "id": "15a12ab2-aab1-41f1-be24-5737159f6268",
   "metadata": {},
   "outputs": [
    {
     "name": "stderr",
     "output_type": "stream",
     "text": [
      "/Users/mgallant/anaconda3/envs/rxn-ca/lib/python3.10/site-packages/tqdm/auto.py:22: TqdmWarning: IProgress not found. Please update jupyter and ipywidgets. See https://ipywidgets.readthedocs.io/en/stable/user_install.html\n",
      "  from .autonotebook import tqdm as notebook_tqdm\n",
      "2023-12-21 15:32:37,840\tINFO util.py:154 -- Missing packages: ['ipywidgets']. Run `pip install -U ipywidgets`, then restart the notebook server for rich notebook output.\n"
     ]
    }
   ],
   "source": [
    "from rxn_ca.core.recipe import ReactionRecipe\n",
    "from rxn_ca.core.heating import HeatingSchedule, HeatingStep"
   ]
  },
  {
   "cell_type": "code",
   "execution_count": 9,
   "id": "d979539d-e68e-4e08-91e5-7e01c57df005",
   "metadata": {},
   "outputs": [],
   "source": [
    "from rxn_ca.core.recipe import ReactionRecipe\n",
    "from rxn_ca.core.heating import HeatingSchedule, HeatingStep\n",
    "\n",
    "heating_schedule = HeatingSchedule(\n",
    "    HeatingStep.sweep(600, 1100, stage_length=30000, step_size=100),\n",
    "    HeatingStep.hold(1100, 60000),    \n",
    ")\n",
    "\n",
    "recipe = ReactionRecipe(\n",
    "    chem_sys=\"Ba-Ti-O-S-Na\",\n",
    "    reactant_amounts={\n",
    "        \"BaS\": 1,\n",
    "        \"Na2TiO3\": 1,\n",
    "    },\n",
    "    particle_size=0.5,\n",
    "    heating_schedule=heating_schedule,\n",
    "    simulation_size=15,\n",
    "    num_realizations=3\n",
    ")\n",
    "\n",
    "recipe.to_file(\"BaS_Na2TiO3_recipe.json\")"
   ]
  },
  {
   "cell_type": "code",
   "execution_count": 7,
   "id": "61d8f12f-42cd-41da-a477-5a66b0a555ba",
   "metadata": {},
   "outputs": [],
   "source": [
    "heating_schedule = HeatingSchedule(\n",
    "    HeatingStep.hold(300, 30000),\n",
    "    HeatingStep.hold(900, 100000)\n",
    ")\n",
    "\n",
    "fast = ReactionRecipe(\n",
    "    chem_sys=\"Ba-Ti-O-S-Na\",\n",
    "    reactant_amounts={\n",
    "        \"BaS\": 1,\n",
    "        \"Na2TiO3\": 1,\n",
    "    },\n",
    "    particle_size=0.4,\n",
    "    heating_schedule=heating_schedule,\n",
    "    simulation_size=15,\n",
    "    num_realizations=5,\n",
    "    exclude_theoretical=False\n",
    ")\n",
    "\n",
    "fast.to_file(\"matt_recipe.json\")"
   ]
  },
  {
   "cell_type": "code",
   "execution_count": null,
   "id": "960f27ab-fb8e-4943-a9b6-a4855f22bdd0",
   "metadata": {},
   "outputs": [],
   "source": []
  }
 ],
 "metadata": {
  "kernelspec": {
   "display_name": "rxn-ca",
   "language": "python",
   "name": "rxn-ca"
  },
  "language_info": {
   "codemirror_mode": {
    "name": "ipython",
    "version": 3
   },
   "file_extension": ".py",
   "mimetype": "text/x-python",
   "name": "python",
   "nbconvert_exporter": "python",
   "pygments_lexer": "ipython3",
   "version": "3.10.6"
  }
 },
 "nbformat": 4,
 "nbformat_minor": 5
}
